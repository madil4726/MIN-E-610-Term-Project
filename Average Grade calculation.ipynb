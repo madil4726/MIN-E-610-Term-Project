{
 "cells": [
  {
   "cell_type": "code",
   "execution_count": 5,
   "id": "f7c4da6d",
   "metadata": {},
   "outputs": [
    {
     "name": "stdout",
     "output_type": "stream",
     "text": [
      "[0.45 0.5  0.55 0.6  0.65 0.7  0.75 0.8  0.85 0.9 ]\n"
     ]
    }
   ],
   "source": [
    "import numpy as np\n",
    "\n",
    "def calculate_average_grades(tonnage, cut_off_grade):\n",
    "    \"\"\"\n",
    "    Calculate average grades based on remaining cut off grade values and corresponding tonnage.\n",
    "\n",
    "    Args:\n",
    "    - tonnage (np.array): Array of tonnage values.\n",
    "    - cut_off_grade (np.array): Array of cut off grade values.\n",
    "\n",
    "    Returns:\n",
    "    - np.array: Array of calculated average grades.\n",
    "    \"\"\"\n",
    "    average_grades = []\n",
    "\n",
    "    for i in range(len(cut_off_grade)):\n",
    "        remaining_cut_off_grade = cut_off_grade[i:]\n",
    "        remaining_tonnage = tonnage[i:]\n",
    "\n",
    "        cumulative_sum_grade_tonnage = np.sum(remaining_cut_off_grade * remaining_tonnage)\n",
    "        cumulative_sum_tonnage = np.sum(remaining_tonnage)\n",
    "\n",
    "        average_grade = cumulative_sum_grade_tonnage / cumulative_sum_tonnage\n",
    "        average_grades.append(average_grade)\n",
    "\n",
    "    return np.array(average_grades)\n",
    "\n",
    "# Example usage:\n",
    "tonnage = np.array([100, 100, 100, 100, 100, 100, 100, 100, 100, 100])\n",
    "cut_off_grade = np.array([0, 0.1, 0.2, 0.3, 0.4, 0.5, 0.6, 0.7, 0.8, 0.9])\n",
    "\n",
    "average_grades = calculate_average_grades(tonnage, cut_off_grade)\n",
    "print(average_grades)\n"
   ]
  },
  {
   "cell_type": "code",
   "execution_count": 6,
   "id": "36d21c4f",
   "metadata": {},
   "outputs": [
    {
     "name": "stdout",
     "output_type": "stream",
     "text": [
      "[0.46333333 0.5135514  0.57054054 0.61604938 0.67164179 0.71517857\n",
      " 0.78717949 0.84107143 0.88421053 0.95      ]\n"
     ]
    }
   ],
   "source": [
    "import numpy as np\n",
    "\n",
    "def calculate_average_grades(tonnage, cut_off_grade):\n",
    "    \"\"\"\n",
    "    Calculate average grades based on remaining cut off grade values and corresponding tonnage.\n",
    "\n",
    "    Args:\n",
    "    - tonnage (np.array): Array of tonnage values.\n",
    "    - cut_off_grade (np.array): Array of cut off grade values.\n",
    "\n",
    "    Returns:\n",
    "    - np.array: Array of calculated average grades.\n",
    "    \"\"\"\n",
    "    average_grades = []\n",
    "\n",
    "    for i in range(len(cut_off_grade)):\n",
    "        remaining_cut_off_grade = cut_off_grade[i:]\n",
    "        remaining_tonnage = tonnage[i:]\n",
    "\n",
    "        cumulative_sum_grade_tonnage = np.sum(remaining_cut_off_grade * remaining_tonnage)\n",
    "        cumulative_sum_tonnage = np.sum(remaining_tonnage)\n",
    "\n",
    "        average_grade = cumulative_sum_grade_tonnage / cumulative_sum_tonnage\n",
    "        average_grades.append(average_grade)\n",
    "\n",
    "    return np.array(average_grades)\n",
    "\n",
    "# Example usage:\n",
    "tonnage = np.array([130,145,115,140,110,170,110,90,125,65])\n",
    "cut_off_grade = np.array([0.05,0.15,0.25,0.35,0.45,0.55,0.65,0.75,0.85,0.95])\n",
    "\n",
    "average_grades = calculate_average_grades(tonnage, cut_off_grade)\n",
    "print(average_grades)\n"
   ]
  },
  {
   "cell_type": "code",
   "execution_count": null,
   "id": "8ec5416a",
   "metadata": {},
   "outputs": [],
   "source": []
  }
 ],
 "metadata": {
  "kernelspec": {
   "display_name": "Python 3 (ipykernel)",
   "language": "python",
   "name": "python3"
  },
  "language_info": {
   "codemirror_mode": {
    "name": "ipython",
    "version": 3
   },
   "file_extension": ".py",
   "mimetype": "text/x-python",
   "name": "python",
   "nbconvert_exporter": "python",
   "pygments_lexer": "ipython3",
   "version": "3.11.5"
  }
 },
 "nbformat": 4,
 "nbformat_minor": 5
}
